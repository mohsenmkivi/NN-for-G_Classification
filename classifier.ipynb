{
 "cells": [
  {
   "cell_type": "code",
   "execution_count": 1,
   "id": "22727cb0-76e5-4df5-89d4-331bd1171257",
   "metadata": {},
   "outputs": [],
   "source": [
    "import torch\n",
    "import torch.nn as nn\n",
    "import torch.optim as optim\n",
    "import numpy as np\n",
    "import matplotlib.pyplot as plt\n"
   ]
  },
  {
   "cell_type": "code",
   "execution_count": 2,
   "id": "5539ca6a-3679-46f9-ade9-c2c631e3afbf",
   "metadata": {},
   "outputs": [],
   "source": [
    "np.random.seed(0)\n",
    "\n",
    "N = 5000  # number of samples\n",
    "v = np.random.uniform(0.1, 10, N)  # voltage (avoid zero)\n",
    "true_G = np.random.choice([0.001, 0.01, 0.1, 1.0, 10.0], N)  # 5 discrete G values\n",
    "i = v * true_G  # i = G * v\n",
    "\n"
   ]
  },
  {
   "cell_type": "code",
   "execution_count": 3,
   "id": "b4ee456f-3a63-4672-bacb-15c7d331f6fe",
   "metadata": {},
   "outputs": [
    {
     "data": {
      "text/plain": [
       "array([5.53325369, 7.18037473, 6.06735742, ..., 2.0541438 , 4.04700347,\n",
       "       9.59007172])"
      ]
     },
     "execution_count": 3,
     "metadata": {},
     "output_type": "execute_result"
    }
   ],
   "source": [
    "v"
   ]
  },
  {
   "cell_type": "code",
   "execution_count": 4,
   "id": "75e7b580-7b4c-4199-b804-c6c48bb20314",
   "metadata": {},
   "outputs": [
    {
     "data": {
      "text/plain": [
       "array([1.   , 0.01 , 1.   , ..., 0.001, 1.   , 0.01 ])"
      ]
     },
     "execution_count": 4,
     "metadata": {},
     "output_type": "execute_result"
    }
   ],
   "source": [
    "true_G"
   ]
  },
  {
   "cell_type": "code",
   "execution_count": 5,
   "id": "eeb91271-d64f-4947-8d88-859b8826296a",
   "metadata": {},
   "outputs": [],
   "source": [
    "G_classes = {0.001: 0, 0.01: 1, 0.1: 2, 1.0: 3, 10.0: 4}\n",
    "labels = np.array([G_classes[g] for g in true_G])"
   ]
  },
  {
   "cell_type": "code",
   "execution_count": 6,
   "id": "a2ff2348-a190-4d56-9e6e-27bd94265885",
   "metadata": {},
   "outputs": [
    {
     "data": {
      "text/plain": [
       "array([3, 1, 3, ..., 0, 3, 1])"
      ]
     },
     "execution_count": 6,
     "metadata": {},
     "output_type": "execute_result"
    }
   ],
   "source": [
    "labels"
   ]
  },
  {
   "cell_type": "code",
   "execution_count": 7,
   "id": "a0645f90-aaee-4dc1-9c2f-5a85da481b9e",
   "metadata": {},
   "outputs": [],
   "source": [
    "X = np.stack((v, i), axis=1)\n",
    "y = labels"
   ]
  },
  {
   "cell_type": "code",
   "execution_count": 8,
   "id": "27122a3f-553d-4e45-ba68-88676896ab70",
   "metadata": {},
   "outputs": [
    {
     "data": {
      "text/plain": [
       "array([[5.53325369e+00, 5.53325369e+00],\n",
       "       [7.18037473e+00, 7.18037473e-02],\n",
       "       [6.06735742e+00, 6.06735742e+00],\n",
       "       ...,\n",
       "       [2.05414380e+00, 2.05414380e-03],\n",
       "       [4.04700347e+00, 4.04700347e+00],\n",
       "       [9.59007172e+00, 9.59007172e-02]])"
      ]
     },
     "execution_count": 8,
     "metadata": {},
     "output_type": "execute_result"
    }
   ],
   "source": [
    "X\n"
   ]
  },
  {
   "cell_type": "code",
   "execution_count": 9,
   "id": "13d8e767-5f98-4691-8c84-dc726aedb4fd",
   "metadata": {},
   "outputs": [
    {
     "ename": "NameError",
     "evalue": "name 'Y' is not defined",
     "output_type": "error",
     "traceback": [
      "\u001b[1;31m---------------------------------------------------------------------------\u001b[0m",
      "\u001b[1;31mNameError\u001b[0m                                 Traceback (most recent call last)",
      "Cell \u001b[1;32mIn[9], line 1\u001b[0m\n\u001b[1;32m----> 1\u001b[0m \u001b[43mY\u001b[49m\n",
      "\u001b[1;31mNameError\u001b[0m: name 'Y' is not defined"
     ]
    }
   ],
   "source": [
    "Y"
   ]
  },
  {
   "cell_type": "code",
   "execution_count": 10,
   "id": "080a3f0c-daca-4858-8cc1-e82cf603cef5",
   "metadata": {},
   "outputs": [
    {
     "data": {
      "text/plain": [
       "array([3, 1, 3, ..., 0, 3, 1])"
      ]
     },
     "execution_count": 10,
     "metadata": {},
     "output_type": "execute_result"
    }
   ],
   "source": [
    "y\n"
   ]
  },
  {
   "cell_type": "code",
   "execution_count": 11,
   "id": "1017a412-b5f6-441e-95d1-12173336565d",
   "metadata": {},
   "outputs": [
    {
     "data": {
      "text/plain": [
       "(array([[5.53325369e+00, 5.53325369e+00],\n",
       "        [7.18037473e+00, 7.18037473e-02],\n",
       "        [6.06735742e+00, 6.06735742e+00],\n",
       "        ...,\n",
       "        [2.05414380e+00, 2.05414380e-03],\n",
       "        [4.04700347e+00, 4.04700347e+00],\n",
       "        [9.59007172e+00, 9.59007172e-02]]),\n",
       " array([3, 1, 3, ..., 0, 3, 1]))"
      ]
     },
     "execution_count": 11,
     "metadata": {},
     "output_type": "execute_result"
    }
   ],
   "source": [
    "X,y"
   ]
  },
  {
   "cell_type": "code",
   "execution_count": 14,
   "id": "e9e6e04f-a04c-4fd5-96ff-276f7a9b50e3",
   "metadata": {},
   "outputs": [],
   "source": [
    "from sklearn.model_selection import train_test_split\n",
    "from sklearn.metrics import classification_report\n",
    "    "
   ]
  },
  {
   "cell_type": "code",
   "execution_count": 15,
   "id": "8747188d-9401-48af-ad37-b99b22db19a6",
   "metadata": {},
   "outputs": [],
   "source": [
    "\n",
    "# Split\n",
    "X_train, X_test, y_train, y_test = train_test_split(X, y, test_size=0.2, random_state=42)\n",
    "\n",
    "# Convert to torch tensors\n",
    "X_train_t = torch.tensor(X_train, dtype=torch.float32)\n",
    "y_train_t = torch.tensor(y_train, dtype=torch.long)\n",
    "X_test_t = torch.tensor(X_test, dtype=torch.float32)\n",
    "y_test_t = torch.tensor(y_test, dtype=torch.long)\n"
   ]
  },
  {
   "cell_type": "code",
   "execution_count": 16,
   "id": "4b4fe67b-167f-4fa3-b011-6cef749dd59c",
   "metadata": {},
   "outputs": [
    {
     "data": {
      "text/plain": [
       "tensor([[7.1783e+00, 7.1783e+00],\n",
       "        [5.2045e-01, 5.2045e+00],\n",
       "        [4.9593e-01, 4.9593e-03],\n",
       "        ...,\n",
       "        [6.6803e+00, 6.6803e+00],\n",
       "        [1.7868e+00, 1.7868e+01],\n",
       "        [9.3775e+00, 9.3775e-02]])"
      ]
     },
     "execution_count": 16,
     "metadata": {},
     "output_type": "execute_result"
    }
   ],
   "source": [
    "X_train_t"
   ]
  },
  {
   "cell_type": "code",
   "execution_count": 17,
   "id": "caea9b3a-0932-4420-b9ab-4dc9c121f9c2",
   "metadata": {},
   "outputs": [],
   "source": [
    "\n",
    "# Train model\n",
    "model = GClassifier()\n",
    "criterion = nn.CrossEntropyLoss()\n",
    "optimizer = optim.Adam(model.parameters(), lr=0.001)\n",
    "\n"
   ]
  },
  {
   "cell_type": "code",
   "execution_count": 18,
   "id": "ad42d07d-4849-482c-957a-f0522c62ada8",
   "metadata": {},
   "outputs": [
    {
     "name": "stdout",
     "output_type": "stream",
     "text": [
      "Epoch [5/20] Loss: 1.3786\n",
      "Epoch [10/20] Loss: 1.2817\n",
      "Epoch [15/20] Loss: 1.2445\n",
      "Epoch [20/20] Loss: 1.2187\n"
     ]
    }
   ],
   "source": [
    "# Training loop\n",
    "epochs = 20\n",
    "for epoch in range(epochs):\n",
    "    optimizer.zero_grad()\n",
    "    outputs = model(X_train_t)\n",
    "    loss = criterion(outputs, y_train_t)\n",
    "    loss.backward()\n",
    "    optimizer.step()\n",
    "    if (epoch+1) % 5 == 0:\n",
    "        print(f\"Epoch [{epoch+1}/{epochs}] Loss: {loss.item():.4f}\")\n"
   ]
  },
  {
   "cell_type": "code",
   "execution_count": 20,
   "id": "e0400ffe-d5a2-4ed2-b537-238d8d04b369",
   "metadata": {},
   "outputs": [
    {
     "name": "stdout",
     "output_type": "stream",
     "text": [
      "\n",
      "Classification Report:\n",
      "              precision    recall  f1-score   support\n",
      "\n",
      "     Class 0       0.00      0.00      0.00       176\n",
      "     Class 1       0.00      0.00      0.00       228\n",
      "     Class 2       0.32      1.00      0.49       212\n",
      "     Class 3       0.98      0.81      0.88       180\n",
      "     Class 4       1.00      0.98      0.99       204\n",
      "\n",
      "    accuracy                           0.56      1000\n",
      "   macro avg       0.46      0.56      0.47      1000\n",
      "weighted avg       0.45      0.56      0.46      1000\n",
      "\n"
     ]
    },
    {
     "name": "stderr",
     "output_type": "stream",
     "text": [
      "C:\\Users\\ASUS\\AppData\\Local\\Packages\\PythonSoftwareFoundation.Python.3.11_qbz5n2kfra8p0\\LocalCache\\local-packages\\Python311\\site-packages\\sklearn\\metrics\\_classification.py:1509: UndefinedMetricWarning: Precision is ill-defined and being set to 0.0 in labels with no predicted samples. Use `zero_division` parameter to control this behavior.\n",
      "  _warn_prf(average, modifier, f\"{metric.capitalize()} is\", len(result))\n",
      "C:\\Users\\ASUS\\AppData\\Local\\Packages\\PythonSoftwareFoundation.Python.3.11_qbz5n2kfra8p0\\LocalCache\\local-packages\\Python311\\site-packages\\sklearn\\metrics\\_classification.py:1509: UndefinedMetricWarning: Precision is ill-defined and being set to 0.0 in labels with no predicted samples. Use `zero_division` parameter to control this behavior.\n",
      "  _warn_prf(average, modifier, f\"{metric.capitalize()} is\", len(result))\n",
      "C:\\Users\\ASUS\\AppData\\Local\\Packages\\PythonSoftwareFoundation.Python.3.11_qbz5n2kfra8p0\\LocalCache\\local-packages\\Python311\\site-packages\\sklearn\\metrics\\_classification.py:1509: UndefinedMetricWarning: Precision is ill-defined and being set to 0.0 in labels with no predicted samples. Use `zero_division` parameter to control this behavior.\n",
      "  _warn_prf(average, modifier, f\"{metric.capitalize()} is\", len(result))\n"
     ]
    }
   ],
   "source": [
    "# Predict\n",
    "with torch.no_grad():\n",
    "    y_pred_logits = model(X_test_t)\n",
    "    y_pred = torch.argmax(y_pred_logits, dim=1)\n",
    "\n",
    "print(\"\\nClassification Report:\")\n",
    "print(classification_report(y_test, y_pred.numpy(), target_names=[f'Class {i}' for i in range(5)]))\n"
   ]
  },
  {
   "cell_type": "code",
   "execution_count": 21,
   "id": "4155c5b3-24cc-4329-ae0b-d18eb4e81cc6",
   "metadata": {},
   "outputs": [
    {
     "name": "stdout",
     "output_type": "stream",
     "text": [
      "Label distribution: Counter({2: 1039, 1: 1025, 0: 986, 3: 976, 4: 974})\n"
     ]
    }
   ],
   "source": [
    "import collections\n",
    "print(\"Label distribution:\", collections.Counter(y))\n"
   ]
  },
  {
   "cell_type": "code",
   "execution_count": 22,
   "id": "7b4d8c9d-6336-4029-84a9-8191f4d3c6a7",
   "metadata": {},
   "outputs": [
    {
     "name": "stdout",
     "output_type": "stream",
     "text": [
      "Predicted class distribution: Counter({2: 653, 4: 199, 3: 148})\n"
     ]
    }
   ],
   "source": [
    "from collections import Counter\n",
    "print(\"Predicted class distribution:\", Counter(y_pred.numpy()))\n"
   ]
  },
  {
   "cell_type": "code",
   "execution_count": 23,
   "id": "878b7f7a-b87c-4147-833a-31c1fca5f04b",
   "metadata": {},
   "outputs": [
    {
     "name": "stdout",
     "output_type": "stream",
     "text": [
      "Epoch 10/100 - Loss: 1.5984 - Acc: 0.2183\n",
      "Epoch 20/100 - Loss: 1.5374 - Acc: 0.3877\n",
      "Epoch 30/100 - Loss: 1.4804 - Acc: 0.3857\n",
      "Epoch 40/100 - Loss: 1.4188 - Acc: 0.3817\n",
      "Epoch 50/100 - Loss: 1.3589 - Acc: 0.3845\n",
      "Epoch 60/100 - Loss: 1.3035 - Acc: 0.3873\n",
      "Epoch 70/100 - Loss: 1.2559 - Acc: 0.3925\n",
      "Epoch 80/100 - Loss: 1.2162 - Acc: 0.4200\n",
      "Epoch 90/100 - Loss: 1.1828 - Acc: 0.5050\n",
      "Epoch 100/100 - Loss: 1.1529 - Acc: 0.5550\n",
      "\n",
      "Test Classification Report:\n",
      "              precision    recall  f1-score   support\n",
      "\n",
      "     Class 0       0.31      0.57      0.41       199\n",
      "     Class 1       0.38      0.43      0.41       214\n",
      "     Class 2       0.21      0.07      0.11       201\n",
      "     Class 3       1.00      0.73      0.84       193\n",
      "     Class 4       1.00      0.97      0.99       193\n",
      "\n",
      "    accuracy                           0.55      1000\n",
      "   macro avg       0.58      0.56      0.55      1000\n",
      "weighted avg       0.57      0.55      0.54      1000\n",
      "\n",
      "Predicted class distribution: Counter({0: 363, 1: 239, 4: 188, 3: 140, 2: 70})\n"
     ]
    },
    {
     "data": {
      "image/png": "[encoded data removed]",
      "text/plain": [
       "<Figure size 640x480 with 2 Axes>"
      ]
     },
     "metadata": {},
     "output_type": "display_data"
    }
   ],
   "source": [
    "import torch\n",
    "import torch.nn as nn\n",
    "import torch.optim as optim\n",
    "import numpy as np\n",
    "import matplotlib.pyplot as plt\n",
    "from sklearn.preprocessing import StandardScaler\n",
    "from sklearn.model_selection import train_test_split\n",
    "from sklearn.metrics import classification_report, confusion_matrix, ConfusionMatrixDisplay\n",
    "from collections import Counter\n",
    "\n",
    "# Seed\n",
    "np.random.seed(42)\n",
    "torch.manual_seed(42)\n",
    "\n",
    "# 1. Simulate data\n",
    "N = 5000\n",
    "G_levels = [0.001, 0.01, 0.1, 1.0, 10.0]\n",
    "true_G = np.random.choice(G_levels, N, p=[0.2]*5)\n",
    "v = np.random.uniform(0.1, 10, N)\n",
    "i = v * true_G\n",
    "G_classes = {g: i for i, g in enumerate(G_levels)}\n",
    "labels = np.array([G_classes[g] for g in true_G])\n",
    "X = np.stack((v, i), axis=1)\n",
    "\n",
    "# 2. Normalize input\n",
    "scaler = StandardScaler()\n",
    "X_scaled = scaler.fit_transform(X)\n",
    "\n",
    "# 3. Split\n",
    "X_train, X_test, y_train, y_test = train_test_split(X_scaled, labels, test_size=0.2, random_state=42)\n",
    "\n",
    "# 4. Convert to torch tensors\n",
    "X_train_t = torch.tensor(X_train, dtype=torch.float32)\n",
    "y_train_t = torch.tensor(y_train, dtype=torch.long)\n",
    "X_test_t = torch.tensor(X_test, dtype=torch.float32)\n",
    "y_test_t = torch.tensor(y_test, dtype=torch.long)\n",
    "\n",
    "# 5. Define improved model\n",
    "class GClassifier(nn.Module):\n",
    "    def __init__(self):\n",
    "        super(GClassifier, self).__init__()\n",
    "        self.model = nn.Sequential(\n",
    "            nn.Linear(2, 64),\n",
    "            nn.ReLU(),\n",
    "            nn.Linear(64, 32),\n",
    "            nn.ReLU(),\n",
    "            nn.Linear(32, 5)  # 5 classes\n",
    "        )\n",
    "\n",
    "    def forward(self, x):\n",
    "        return self.model(x)\n",
    "\n",
    "# 6. Train\n",
    "model = GClassifier()\n",
    "criterion = nn.CrossEntropyLoss()\n",
    "optimizer = optim.Adam(model.parameters(), lr=0.001)\n",
    "\n",
    "epochs = 100\n",
    "for epoch in range(epochs):\n",
    "    model.train()\n",
    "    optimizer.zero_grad()\n",
    "    outputs = model(X_train_t)\n",
    "    loss = criterion(outputs, y_train_t)\n",
    "    loss.backward()\n",
    "    optimizer.step()\n",
    "    \n",
    "    if (epoch+1) % 10 == 0:\n",
    "        _, preds = torch.max(outputs, 1)\n",
    "        acc = (preds == y_train_t).float().mean()\n",
    "        print(f\"Epoch {epoch+1}/{epochs} - Loss: {loss.item():.4f} - Acc: {acc:.4f}\")\n",
    "\n",
    "# 7. Evaluate\n",
    "model.eval()\n",
    "with torch.no_grad():\n",
    "    y_pred_logits = model(X_test_t)\n",
    "    y_pred = torch.argmax(y_pred_logits, dim=1)\n",
    "\n",
    "print(\"\\nTest Classification Report:\")\n",
    "print(classification_report(y_test, y_pred.numpy(), target_names=[f'Class {i}' for i in range(5)], zero_division=0))\n",
    "print(\"Predicted class distribution:\", Counter(y_pred.numpy()))\n",
    "\n",
    "# 8. Confusion Matrix\n",
    "cm = confusion_matrix(y_test, y_pred.numpy())\n",
    "disp = ConfusionMatrixDisplay(confusion_matrix=cm, display_labels=[f'Class {i}' for i in range(5)])\n",
    "disp.plot(cmap='Blues')\n",
    "plt.title(\"Confusion Matrix\")\n",
    "plt.show()\n"
   ]
  },
  {
   "cell_type": "code",
   "execution_count": 24,
   "id": "9c643a35-2a1c-4f5b-8bad-2b75ba7816af",
   "metadata": {},
   "outputs": [
    {
     "name": "stdout",
     "output_type": "stream",
     "text": [
      "\n",
      "Classification Report:\n",
      "              precision    recall  f1-score   support\n",
      "\n",
      "     Class 0       0.31      0.57      0.41       199\n",
      "     Class 1       0.38      0.43      0.41       214\n",
      "     Class 2       0.21      0.07      0.11       201\n",
      "     Class 3       1.00      0.73      0.84       193\n",
      "     Class 4       1.00      0.97      0.99       193\n",
      "\n",
      "    accuracy                           0.55      1000\n",
      "   macro avg       0.58      0.56      0.55      1000\n",
      "weighted avg       0.57      0.55      0.54      1000\n",
      "\n"
     ]
    }
   ],
   "source": [
    "# Predict\n",
    "with torch.no_grad():\n",
    "    y_pred_logits = model(X_test_t)\n",
    "    y_pred = torch.argmax(y_pred_logits, dim=1)\n",
    "\n",
    "print(\"\\nClassification Report:\")\n",
    "print(classification_report(y_test, y_pred.numpy(), target_names=[f'Class {i}' for i in range(5)]))\n"
   ]
  },
  {
   "cell_type": "code",
   "execution_count": 25,
   "id": "879738b7-e9d4-44c2-97b8-f2405d719b5a",
   "metadata": {},
   "outputs": [],
   "source": [
    "np.savetxt(\"predicted_classes.csv\", y_pred.numpy(), delimiter=\",\", fmt='%d')\n"
   ]
  },
  {
   "cell_type": "code",
   "execution_count": 26,
   "id": "15294d0c-0750-4af5-8314-66b912e110e0",
   "metadata": {},
   "outputs": [],
   "source": [
    "# [v, i, class]\n",
    "combined = np.concatenate([X_test, y_pred.numpy().reshape(-1, 1)], axis=1)\n",
    "np.savetxt(\"G_classifier_lookup.csv\", combined, delimiter=\",\", header=\"v,i,class\", comments=\"\")\n"
   ]
  },
  {
   "cell_type": "code",
   "execution_count": null,
   "id": "4b8b25cd-fb96-4972-9f42-0463809810ca",
   "metadata": {},
   "outputs": [],
   "source": []
  }
 ],
 "metadata": {
  "kernelspec": {
   "display_name": "Python 3 (ipykernel)",
   "language": "python",
   "name": "python3"
  },
  "language_info": {
   "codemirror_mode": {
    "name": "ipython",
    "version": 3
   },
   "file_extension": ".py",
   "mimetype": "text/x-python",
   "name": "python",
   "nbconvert_exporter": "python",
   "pygments_lexer": "ipython3",
   "version": "3.11.9"
  }
 },
 "nbformat": 4,
 "nbformat_minor": 5
}
